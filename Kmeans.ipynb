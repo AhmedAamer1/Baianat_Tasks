{
 "cells": [
  {
   "cell_type": "code",
   "execution_count": 1,
   "id": "b53114c6",
   "metadata": {},
   "outputs": [],
   "source": [
    "import numpy as np\n",
    "\n",
    "def k_means(data, k, max_iterations=100):\n",
    "    # Step 1: Initialize centroids randomly\n",
    "    centroids = initialize_centroids(data, k)\n",
    "    \n",
    "    for _ in range(max_iterations):\n",
    "        # Step 2: Assign data points to nearest centroid\n",
    "        labels = assign_labels(data, centroids)\n",
    "        \n",
    "        # Step 3: Update centroids based on assigned data points\n",
    "        new_centroids = update_centroids(data, labels, k)\n",
    "        \n",
    "        # Check for convergence\n",
    "        if np.array_equal(centroids, new_centroids):\n",
    "            break\n",
    "        \n",
    "        centroids = new_centroids\n",
    "    \n",
    "    return labels, centroids\n",
    "\n",
    "def initialize_centroids(data, k):\n",
    "    # Randomly select k data points as initial centroids\n",
    "    centroids_indices = np.random.choice(data.shape[0], size=k, replace=False)\n",
    "    centroids = data[centroids_indices]\n",
    "    return centroids\n",
    "\n",
    "def assign_labels(data, centroids):\n",
    "    # Calculate the Euclidean distance between each data point and centroids\n",
    "    distances = np.linalg.norm(data[:, np.newaxis] - centroids, axis=-1)\n",
    "    \n",
    "    # Assign each data point to the nearest centroid\n",
    "    labels = np.argmin(distances, axis=1)\n",
    "    return labels\n",
    "\n",
    "def update_centroids(data, labels, k):\n",
    "    # Update centroids based on the mean of data points in each cluster\n",
    "    centroids = np.array([data[labels == i].mean(axis=0) for i in range(k)])\n",
    "    return centroids"
   ]
  },
  {
   "cell_type": "code",
   "execution_count": 2,
   "id": "7cbd452f",
   "metadata": {},
   "outputs": [
    {
     "name": "stdout",
     "output_type": "stream",
     "text": [
      "Cluster labels: [1 1 0 0 1 0]\n",
      "Centroids: [[7.33333333 9.        ]\n",
      " [1.16666667 1.46666667]]\n"
     ]
    }
   ],
   "source": [
    "data = np.array([[1, 2], [1.5, 1.8], [5, 8], [8, 8], [1, 0.6], [9, 11]])\n",
    "k = 2\n",
    "\n",
    "labels, centroids = k_means(data, k)\n",
    "print(\"Cluster labels:\", labels)\n",
    "print(\"Centroids:\", centroids)"
   ]
  },
  {
   "cell_type": "code",
   "execution_count": null,
   "id": "c92d7056",
   "metadata": {},
   "outputs": [],
   "source": []
  }
 ],
 "metadata": {
  "kernelspec": {
   "display_name": "Python 3 (ipykernel)",
   "language": "python",
   "name": "python3"
  },
  "language_info": {
   "codemirror_mode": {
    "name": "ipython",
    "version": 3
   },
   "file_extension": ".py",
   "mimetype": "text/x-python",
   "name": "python",
   "nbconvert_exporter": "python",
   "pygments_lexer": "ipython3",
   "version": "3.9.12"
  },
  "varInspector": {
   "cols": {
    "lenName": 16,
    "lenType": 16,
    "lenVar": 40
   },
   "kernels_config": {
    "python": {
     "delete_cmd_postfix": "",
     "delete_cmd_prefix": "del ",
     "library": "var_list.py",
     "varRefreshCmd": "print(var_dic_list())"
    },
    "r": {
     "delete_cmd_postfix": ") ",
     "delete_cmd_prefix": "rm(",
     "library": "var_list.r",
     "varRefreshCmd": "cat(var_dic_list()) "
    }
   },
   "types_to_exclude": [
    "module",
    "function",
    "builtin_function_or_method",
    "instance",
    "_Feature"
   ],
   "window_display": false
  }
 },
 "nbformat": 4,
 "nbformat_minor": 5
}
